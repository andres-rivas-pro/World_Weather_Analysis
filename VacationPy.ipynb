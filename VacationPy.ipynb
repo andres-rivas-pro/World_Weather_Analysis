{
 "cells": [
  {
   "cell_type": "code",
   "execution_count": 1,
   "metadata": {},
   "outputs": [],
   "source": [
    "import gmaps\n",
    "from config import g_key\n",
    "import pandas as pd \n",
    "import requests"
   ]
  },
  {
   "cell_type": "code",
   "execution_count": 2,
   "metadata": {},
   "outputs": [
    {
     "name": "stdout",
     "output_type": "stream",
     "text": [
      "What is the minimum temperature you would like for your trip? 75\n",
      "What is the maximum temperature you would like for your trip? 90\n"
     ]
    }
   ],
   "source": [
    "# Ask the customer to add a minimum and maximum temperature value.\n",
    "min_temp = float(input(\"What is the minimum temperature you would like for your trip? \"))\n",
    "max_temp = float(input(\"What is the maximum temperature you would like for your trip? \"))"
   ]
  },
  {
   "cell_type": "code",
   "execution_count": 4,
   "metadata": {},
   "outputs": [
    {
     "data": {
      "text/plain": [
       "City_ID         int64\n",
       "City           object\n",
       "Country        object\n",
       "Date           object\n",
       "Lat           float64\n",
       "Lng           float64\n",
       "Max Temp      float64\n",
       "Humidity        int64\n",
       "Cloudiness      int64\n",
       "Wind Speed    float64\n",
       "dtype: object"
      ]
     },
     "execution_count": 4,
     "metadata": {},
     "output_type": "execute_result"
    }
   ],
   "source": [
    "city_data_gmaps_df = pd.read_csv('weather_data/cities.csv')\n",
    "city_data_gmaps_df.dtypes"
   ]
  },
  {
   "cell_type": "code",
   "execution_count": 5,
   "metadata": {},
   "outputs": [
    {
     "data": {
      "application/vnd.jupyter.widget-view+json": {
       "model_id": "90fb4db83f4c4744881c0ee6b81bb399",
       "version_major": 2,
       "version_minor": 0
      },
      "text/plain": [
       "Figure(layout=FigureLayout(height='420px'))"
      ]
     },
     "metadata": {},
     "output_type": "display_data"
    }
   ],
   "source": [
    "gmaps.configure(api_key=g_key)\n",
    "\n",
    "locations = city_data_gmaps_df[['Lat','Lng']]\n",
    "maxTemp = city_data_gmaps_df['Max Temp']\n",
    "adj_maxTemp_weights = [max(temp, 0) for temp in maxTemp]\n",
    "\n",
    "fig = gmaps.figure(center = (30.0,31.0), zoom_level =1.5)\n",
    "\n",
    "heatmap_layer = gmaps.heatmap_layer(locations, weights = adj_maxTemp_weights, \n",
    "                                    dissipating = False, max_intensity = 300, point_radius=4)\n",
    "# Add the heatmap layer.\n",
    "fig.add_layer(heatmap_layer)\n",
    "# Call the figure to plot the data\n",
    "fig"
   ]
  },
  {
   "cell_type": "code",
   "execution_count": 6,
   "metadata": {},
   "outputs": [
    {
     "data": {
      "application/vnd.jupyter.widget-view+json": {
       "model_id": "e4654f271701438e995f7a180e5fd442",
       "version_major": 2,
       "version_minor": 0
      },
      "text/plain": [
       "Figure(layout=FigureLayout(height='420px'))"
      ]
     },
     "metadata": {},
     "output_type": "display_data"
    }
   ],
   "source": [
    "# Percent Humidity Heatmap\n",
    "locations = city_data_gmaps_df[['Lat','Lng']]\n",
    "humidity = city_data_gmaps_df['Humidity']\n",
    "\n",
    "heatmap_layer = gmaps.heatmap_layer(locations, weights=humidity,\n",
    "                            dissipating = False, max_intensity=300, point_radius=4)\n",
    "fig = gmaps.figure(center=(30.0,31.0), zoom_level = 1.5)\n",
    "fig.add_layer(heatmap_layer)\n",
    "fig"
   ]
  },
  {
   "cell_type": "code",
   "execution_count": 7,
   "metadata": {},
   "outputs": [
    {
     "data": {
      "application/vnd.jupyter.widget-view+json": {
       "model_id": "0666803f484a490fa25704f888af7a4b",
       "version_major": 2,
       "version_minor": 0
      },
      "text/plain": [
       "Figure(layout=FigureLayout(height='420px'))"
      ]
     },
     "metadata": {},
     "output_type": "display_data"
    }
   ],
   "source": [
    "# Percent Cloudiness Heatmap\n",
    "locations = city_data_gmaps_df[['Lat','Lng']]\n",
    "clouds = city_data_gmaps_df['Cloudiness']\n",
    "\n",
    "heatmap_layer = gmaps.heatmap_layer(locations,weights=clouds,\n",
    "                    dissipating=False, max_intensity=300, point_radius=4)\n",
    "fig = gmaps.figure(center = (30.0,31.0), zoom_level =1.5)\n",
    "fig.add_layer(heatmap_layer)\n",
    "\n",
    "fig"
   ]
  },
  {
   "cell_type": "code",
   "execution_count": 8,
   "metadata": {},
   "outputs": [
    {
     "data": {
      "application/vnd.jupyter.widget-view+json": {
       "model_id": "d811c9d66c9c462fa961fd3fda42881e",
       "version_major": 2,
       "version_minor": 0
      },
      "text/plain": [
       "Figure(layout=FigureLayout(height='420px'))"
      ]
     },
     "metadata": {},
     "output_type": "display_data"
    }
   ],
   "source": [
    "# Wind Speed Heatmap\n",
    "locations = city_data_gmaps_df[['Lat','Lng']]\n",
    "wind = city_data_gmaps_df['Wind Speed']\n",
    "\n",
    "heatmap_layer = gmaps.heatmap_layer(locations, weights=wind,\n",
    "                            dissipating = False, max_intensity=300, point_radius=4)\n",
    "fig = gmaps.figure(center=(30.0,31.0), zoom_level = 1.5)\n",
    "fig.add_layer(heatmap_layer)\n",
    "fig"
   ]
  },
  {
   "cell_type": "code",
   "execution_count": 9,
   "metadata": {},
   "outputs": [
    {
     "name": "stdout",
     "output_type": "stream",
     "text": [
      "What is the minimum temperature you would like for your trip? 75\n",
      "What is the maximum temperature you would like for your trip? 90\n"
     ]
    },
    {
     "data": {
      "text/plain": [
       "City_ID       176\n",
       "City          176\n",
       "Country       176\n",
       "Date          176\n",
       "Lat           176\n",
       "Lng           176\n",
       "Max Temp      176\n",
       "Humidity      176\n",
       "Cloudiness    176\n",
       "Wind Speed    176\n",
       "dtype: int64"
      ]
     },
     "execution_count": 9,
     "metadata": {},
     "output_type": "execute_result"
    }
   ],
   "source": [
    "# user prompts for input min and max temp range\n",
    "min_prompt_temp = float(input('What is the minimum temperature you would like for your trip? '))\n",
    "max_prompt_temp = float(input('What is the maximum temperature you would like for your trip? '))                    \n",
    "\n",
    "preferred_city_data_gmaps_df = city_data_gmaps_df.loc[(city_data_gmaps_df['Max Temp']<=max_prompt_temp) & \\\n",
    "                                                      (city_data_gmaps_df['Max Temp']>=min_prompt_temp)]\n",
    "# dropna() for srop null values rows\n",
    "clean_preferred_city_data_gmaps_df = preferred_city_data_gmaps_df.dropna()\n",
    "clean_preferred_city_data_gmaps_df.count()"
   ]
  },
  {
   "cell_type": "code",
   "execution_count": 10,
   "metadata": {},
   "outputs": [
    {
     "data": {
      "text/html": [
       "<div>\n",
       "<style scoped>\n",
       "    .dataframe tbody tr th:only-of-type {\n",
       "        vertical-align: middle;\n",
       "    }\n",
       "\n",
       "    .dataframe tbody tr th {\n",
       "        vertical-align: top;\n",
       "    }\n",
       "\n",
       "    .dataframe thead th {\n",
       "        text-align: right;\n",
       "    }\n",
       "</style>\n",
       "<table border=\"1\" class=\"dataframe\">\n",
       "  <thead>\n",
       "    <tr style=\"text-align: right;\">\n",
       "      <th></th>\n",
       "      <th>City</th>\n",
       "      <th>Country</th>\n",
       "      <th>Max Temp</th>\n",
       "      <th>Lat</th>\n",
       "      <th>Lng</th>\n",
       "      <th>Hotel Name</th>\n",
       "    </tr>\n",
       "  </thead>\n",
       "  <tbody>\n",
       "    <tr>\n",
       "      <th>1</th>\n",
       "      <td>Carnarvon</td>\n",
       "      <td>AU</td>\n",
       "      <td>75.20</td>\n",
       "      <td>-24.87</td>\n",
       "      <td>113.63</td>\n",
       "      <td></td>\n",
       "    </tr>\n",
       "    <tr>\n",
       "      <th>3</th>\n",
       "      <td>Hithadhoo</td>\n",
       "      <td>MV</td>\n",
       "      <td>85.30</td>\n",
       "      <td>-0.60</td>\n",
       "      <td>73.08</td>\n",
       "      <td></td>\n",
       "    </tr>\n",
       "    <tr>\n",
       "      <th>9</th>\n",
       "      <td>Gudari</td>\n",
       "      <td>IN</td>\n",
       "      <td>86.29</td>\n",
       "      <td>19.35</td>\n",
       "      <td>83.78</td>\n",
       "      <td></td>\n",
       "    </tr>\n",
       "    <tr>\n",
       "      <th>11</th>\n",
       "      <td>Grand Gaube</td>\n",
       "      <td>MU</td>\n",
       "      <td>78.80</td>\n",
       "      <td>-20.01</td>\n",
       "      <td>57.66</td>\n",
       "      <td></td>\n",
       "    </tr>\n",
       "    <tr>\n",
       "      <th>13</th>\n",
       "      <td>Domoni</td>\n",
       "      <td>KM</td>\n",
       "      <td>84.00</td>\n",
       "      <td>-12.26</td>\n",
       "      <td>44.53</td>\n",
       "      <td></td>\n",
       "    </tr>\n",
       "  </tbody>\n",
       "</table>\n",
       "</div>"
      ],
      "text/plain": [
       "           City Country  Max Temp    Lat     Lng Hotel Name\n",
       "1     Carnarvon      AU     75.20 -24.87  113.63           \n",
       "3     Hithadhoo      MV     85.30  -0.60   73.08           \n",
       "9        Gudari      IN     86.29  19.35   83.78           \n",
       "11  Grand Gaube      MU     78.80 -20.01   57.66           \n",
       "13       Domoni      KM     84.00 -12.26   44.53           "
      ]
     },
     "execution_count": 10,
     "metadata": {},
     "output_type": "execute_result"
    }
   ],
   "source": [
    "hotel_df = clean_preferred_city_data_gmaps_df[[\"City\", \"Country\", \"Max Temp\", \"Lat\", \"Lng\"]].copy()\n",
    "hotel_df['Hotel Name'] = ''\n",
    "hotel_df.head()"
   ]
  },
  {
   "cell_type": "code",
   "execution_count": null,
   "metadata": {},
   "outputs": [
    {
     "name": "stdout",
     "output_type": "stream",
     "text": [
      "Hotel not found... skipping\n",
      "Hotel not found... skipping\n",
      "Hotel not found... skipping\n",
      "Hotel not found... skipping\n",
      "Hotel not found... skipping\n",
      "Hotel not found... skipping\n"
     ]
    }
   ],
   "source": [
    "for index, row in hotel_df.iterrows():\n",
    "    lat = row['Lat']\n",
    "    lng = row['Lng']\n",
    "\n",
    "    base_url = 'https://maps.googleapis.com/maps/api/place/nearbysearch/json?'\n",
    "    params = {'key': g_key, 'type':'lodging', 'radius' : 5000}\n",
    "    params['location'] = f\"{lat},{lng}\"\n",
    "    try: \n",
    "        r_hotels = requests.get(base_url, params= params).json()\n",
    "\n",
    "        hotel_df.loc[index, 'Hotel Name'] = r_hotels['results'][0]['name']\n",
    "    except (IndexError):\n",
    "        print('Hotel not found... skipping')\n",
    "\n",
    "hotel_df.head()"
   ]
  },
  {
   "cell_type": "code",
   "execution_count": null,
   "metadata": {},
   "outputs": [],
   "source": [
    "hotel_df.count()"
   ]
  },
  {
   "cell_type": "code",
   "execution_count": null,
   "metadata": {},
   "outputs": [],
   "source": [
    "v_locations = hotel_df[['Lat','Lng']]\n",
    "v_maxTemp = hotel_df['Max Temp']\n",
    "\n",
    "fig = gmaps.figure(center=(30.0,31.0),zoom_level = 1.5)\n",
    "heat_layer = gmaps.heatmap_layer(v_locations, weights= v_maxTemp, max_intensity = 300,\\\n",
    "                                 point_radius = 4, dissipating=False)\n",
    "marker_layer = gmaps.marker_layer(v_locations)\n",
    "fig.add_layer(heat_layer)\n",
    "fig.add_layer(marker_layer)\n",
    "fig"
   ]
  },
  {
   "cell_type": "code",
   "execution_count": null,
   "metadata": {},
   "outputs": [],
   "source": [
    "v_locations = hotel_df[['Lat','Lng']]\n",
    "v_maxTemp = hotel_df['Max Temp']\n",
    "info_box_template='''\n",
    "<dl>\n",
    "<dt>Hotel Name</dt><dd>{Hotel Name}</dd>\n",
    "<dt>City</dt><dd>{City}</dd>\n",
    "<dt>Country</dt><dd>{Country}</dd>\n",
    "<dt>Max Temp</dt><dd>{Max Temp}°F</dd>\n",
    "</dl>'''\n",
    "\n",
    "hotel_info = [info_box_template.format(**row) for index, row in hotel_df.iterrows() ]\n",
    "\n",
    "fig = gmaps.figure(center=(30.0,31.0),zoom_level = 1.5)\n",
    "heat_layer = gmaps.heatmap_layer(v_locations, weights= v_maxTemp, max_intensity = 300,\\\n",
    "                                 point_radius = 4, dissipating=False)\n",
    "marker_layer = gmaps.marker_layer(v_locations, info_box_content = hotel_info)\n",
    "fig.add_layer(heat_layer)\n",
    "fig.add_layer(marker_layer)\n",
    "fig"
   ]
  },
  {
   "cell_type": "code",
   "execution_count": null,
   "metadata": {},
   "outputs": [],
   "source": []
  }
 ],
 "metadata": {
  "kernelspec": {
   "display_name": "PythonData",
   "language": "python",
   "name": "pythondata"
  },
  "language_info": {
   "codemirror_mode": {
    "name": "ipython",
    "version": 3
   },
   "file_extension": ".py",
   "mimetype": "text/x-python",
   "name": "python",
   "nbconvert_exporter": "python",
   "pygments_lexer": "ipython3",
   "version": "3.7.6"
  }
 },
 "nbformat": 4,
 "nbformat_minor": 4
}
